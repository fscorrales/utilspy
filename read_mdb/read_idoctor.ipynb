{
 "cells": [
  {
   "cell_type": "markdown",
   "metadata": {},
   "source": [
    "# Importing main modules"
   ]
  },
  {
   "cell_type": "code",
   "execution_count": null,
   "metadata": {},
   "outputs": [],
   "source": [
    "from sqlalchemy import MetaData, create_engine, engine, select\n",
    "#pip install sqlalchemy-access\n",
    "import xlwings as xw\n",
    "import pyodbc\n",
    "import os\n",
    "import pandas as pd"
   ]
  },
  {
   "cell_type": "code",
   "execution_count": null,
   "metadata": {},
   "outputs": [],
   "source": [
    "[item for item in pyodbc.drivers()]"
   ]
  },
  {
   "cell_type": "markdown",
   "metadata": {},
   "source": [
    "# Create Connection and reflect DB"
   ]
  },
  {
   "cell_type": "code",
   "execution_count": null,
   "metadata": {},
   "outputs": [],
   "source": [
    "metadata = MetaData()\n",
    "db_path = os.path.join(os.getcwd(), 'Fichas.mdb')\n",
    "connection_string = (\n",
    "    r\"DRIVER={MDBTools};\"\n",
    "    r\"DBQ=\" + db_path + \";\"\n",
    "    r\"ExtendedAnsiSQL=1;\"\n",
    ")\n",
    "print(connection_string)\n",
    "connection_url = engine.URL.create(\n",
    "    \"access+pyodbc\",\n",
    "    query={\"odbc_connect\": connection_string}\n",
    ")\n",
    "engine_object = create_engine(connection_url)\n",
    "metadata.reflect(bind=engine_object)\n",
    "metadata.tables.keys()"
   ]
  },
  {
   "cell_type": "markdown",
   "metadata": {},
   "source": [
    "# Querying DB"
   ]
  },
  {
   "cell_type": "code",
   "execution_count": null,
   "metadata": {},
   "outputs": [],
   "source": [
    "pacientes = metadata.tables['PACIENTES']\n",
    "s = select([pacientes])\n",
    "pacientes = pd.DataFrame(engine.execute(s).fetchall())\n",
    "\n",
    "afiliaciones = metadata.tables['AFILIACIONES']\n",
    "s = select([afiliaciones])\n",
    "afiliaciones = pd.DataFrame(engine.execute(s).fetchall())\n",
    "\n",
    "obras_sociales = metadata.tables['OBRASSOCIALES']\n",
    "s = select([obras_sociales])\n",
    "obras_sociales = pd.DataFrame(engine.execute(s).fetchall())\n",
    "\n",
    "localidades = metadata.tables['LOCALIDADES']\n",
    "s = select([localidades])\n",
    "localidades = pd.DataFrame(engine.execute(s).fetchall())\n",
    "\n",
    "diagnosticos = metadata.tables['DIAGNOSTICOS']\n",
    "s = select([diagnosticos])\n",
    "diagnosticos = pd.DataFrame(engine.execute(s).fetchall())\n",
    "\n",
    "historial = metadata.tables['HISTORIAL']\n",
    "s = select([historial])\n",
    "historial = pd.DataFrame(engine.execute(s).fetchall())\n",
    "\n",
    "ingresos = metadata.tables['INGRESOS']\n",
    "s = select([ingresos])\n",
    "ingresos = pd.DataFrame(engine.execute(s).fetchall())\n",
    "\n",
    "tipo_historial = metadata.tables['TIPOHISTORIAL']\n",
    "s = select([tipo_historial])\n",
    "tipo_historial = pd.DataFrame(engine.execute(s).fetchall())\n"
   ]
  },
  {
   "cell_type": "code",
   "execution_count": null,
   "metadata": {},
   "outputs": [],
   "source": [
    "ingresos.head()"
   ]
  },
  {
   "cell_type": "markdown",
   "metadata": {},
   "source": [
    "# Creating Excel File"
   ]
  },
  {
   "cell_type": "code",
   "execution_count": null,
   "metadata": {},
   "outputs": [],
   "source": [
    "nombre_archivo = \"idoctor.xlsx\"\n",
    "\n",
    "if os.path.exists(nombre_archivo):\n",
    "    print(f'El archivo {nombre_archivo} ya existe en la carpeta. \\n' + \n",
    "    'Si desea sobreescribir el archivo, deberá eliminarlo primero')\n",
    "else:\n",
    "    wb = xw.Book()\n",
    "    sheet = wb.sheets[0]\n",
    "    sheet.name = 'pacientes'\n",
    "    filas_blanco = 2\n",
    "    sheet.range(f'B{filas_blanco}').value = pacientes.set_index(\"DNI\", drop=True)\n",
    "    # sheet.range('A1').column_width = 5\n",
    "    # sheet.range('L1').column_width = 5\n",
    "    # sheet.range('M1').column_width = 5\n",
    "    # sheet.range('N1').column_width = 65\n",
    "    # sheet.range(f'J{filas_blanco + 1}:K{len(ppto_obras_siif) + filas_blanco}').number_format = '#,##0.00'\n",
    "    # #sheet.range(f'O{filas_blanco + 1}:Q{len(ppto_obras) + filas_blanco}').number_format = '#,##0.00'\n",
    "    table = sheet.tables.add(source=sheet[f'B{filas_blanco}'].expand(), name='pacientes')\n",
    "\n",
    "    #Afiliaciones\n",
    "    sheet = wb.sheets.add(\"afiliaciones\", after = \"pacientes\")\n",
    "    sheet.range('B2').value = \"Afiliaciones\"\n",
    "    sheet['B2'].font.bold = True\n",
    "    sheet['B2'].font.size = 14\n",
    "    filas_blanco = 4\n",
    "    sheet.range(f'B{filas_blanco}').value = afiliaciones\n",
    "    #sheet.range(f'I{filas_blanco + 1}').expand().number_format = '#,##0.00'\n",
    "    table = sheet.tables.add(source=sheet[f'B{filas_blanco}'].expand(), name='afiliaciones')\n",
    "\n",
    "    #Hoja OBRASSOCIALES\n",
    "    sheet = wb.sheets.add(\"obras_sociales\", after = 'afiliaciones')\n",
    "    sheet.range('B2').value = \"Obras Sociales\"\n",
    "    sheet['B2'].font.bold = True\n",
    "    sheet['B2'].font.size = 14\n",
    "    filas_blanco = 4\n",
    "    sheet.range(f'B{filas_blanco}').value = obras_sociales\n",
    "    # sheet.range(f'J{filas_blanco + 1}').expand().number_format = '#,##0.00'\n",
    "    # sheet.range(f'N{filas_blanco + 1}').expand().number_format = '0.00%'\n",
    "    table = sheet.tables.add(source=sheet[f'B{filas_blanco}'].expand(), name='obras_sociales')\n",
    "\n",
    "    #Localidades\n",
    "    sheet = wb.sheets.add(\"localidades\", after = 'obras_sociales')\n",
    "    sheet.range('B2').value = \"Localidades\"\n",
    "    sheet['B2'].font.bold = True\n",
    "    sheet['B2'].font.size = 14\n",
    "    filas_blanco = 4\n",
    "    sheet.range(f'B{filas_blanco}').value = localidades\n",
    "    #sheet.range(f'J{filas_blanco + 1}').expand().number_format = '#,##0.00'\n",
    "    table = sheet.tables.add(source=sheet[f'B{filas_blanco}'].expand(), name='localidades')\n",
    "\n",
    "    #DIAGNOSTICOS\n",
    "    sheet = wb.sheets.add(\"diagnosticos\", after = 'localidades')\n",
    "    sheet.range('B2').value = \"Diagnosticos\"\n",
    "    sheet['B2'].font.bold = True\n",
    "    sheet['B2'].font.size = 14\n",
    "    filas_blanco = 4\n",
    "    sheet.range(f'B{filas_blanco}').value = diagnosticos\n",
    "    #sheet.range(f'J{filas_blanco + 1}').expand().number_format = '#,##0.00'\n",
    "    table = sheet.tables.add(source=sheet[f'B{filas_blanco}'].expand(), name='diagnosticos')\n",
    "\n",
    "    #Historial\n",
    "    sheet = wb.sheets.add(\"historial\", after = 'diagnosticos')\n",
    "    sheet.range('B2').value = \"Historial\"\n",
    "    sheet['B2'].font.bold = True\n",
    "    sheet['B2'].font.size = 14\n",
    "    filas_blanco = 4\n",
    "    sheet.range(f'B{filas_blanco}').value = historial\n",
    "    #sheet.range(f'J{filas_blanco + 1}').expand().number_format = '#,##0.00'\n",
    "    table = sheet.tables.add(source=sheet[f'B{filas_blanco}'].expand(), name='historial')\n",
    "\n",
    "    #Historial\n",
    "    sheet = wb.sheets.add(\"ingresos\", after = 'historial')\n",
    "    sheet.range('B2').value = \"Ingresos\"\n",
    "    sheet['B2'].font.bold = True\n",
    "    sheet['B2'].font.size = 14\n",
    "    filas_blanco = 4\n",
    "    sheet.range(f'B{filas_blanco}').value = ingresos\n",
    "    #sheet.range(f'J{filas_blanco + 1}').expand().number_format = '#,##0.00'\n",
    "    table = sheet.tables.add(source=sheet[f'B{filas_blanco}'].expand(), name='ingresos')\n",
    "\n",
    "    #Historial\n",
    "    sheet = wb.sheets.add(\"tipo_historial\", after = 'ingresos')\n",
    "    sheet.range('B2').value = \"Tipo Historial\"\n",
    "    sheet['B2'].font.bold = True\n",
    "    sheet['B2'].font.size = 14\n",
    "    filas_blanco = 4\n",
    "    sheet.range(f'B{filas_blanco}').value = tipo_historial\n",
    "    #sheet.range(f'J{filas_blanco + 1}').expand().number_format = '#,##0.00'\n",
    "    table = sheet.tables.add(source=sheet[f'B{filas_blanco}'].expand(), name='tipo_historial')\n",
    "\n",
    "    wb.save(nombre_archivo)\n",
    "\n",
    "    wb.close()"
   ]
  },
  {
   "cell_type": "code",
   "execution_count": null,
   "metadata": {},
   "outputs": [],
   "source": []
  }
 ],
 "metadata": {
  "kernelspec": {
   "display_name": "Python 3 (ipykernel)",
   "language": "python",
   "name": "python3"
  },
  "language_info": {
   "codemirror_mode": {
    "name": "ipython",
    "version": 3
   },
   "file_extension": ".py",
   "mimetype": "text/x-python",
   "name": "python",
   "nbconvert_exporter": "python",
   "pygments_lexer": "ipython3",
   "version": "3.10.6 (main, Nov 14 2022, 16:10:14) [GCC 11.3.0]"
  },
  "vscode": {
   "interpreter": {
    "hash": "f685320d9316868e37ca9142826f4be4bc084e449cafb4153f9ba547698141fb"
   }
  }
 },
 "nbformat": 4,
 "nbformat_minor": 2
}
