{
 "cells": [
  {
   "cell_type": "markdown",
   "metadata": {},
   "source": [
    "# Importar Access .mdb"
   ]
  },
  {
   "cell_type": "markdown",
   "metadata": {},
   "source": [
    "## Modulos requeridos"
   ]
  },
  {
   "cell_type": "code",
   "execution_count": null,
   "metadata": {},
   "outputs": [],
   "source": [
    "import os\n",
    "import pyodbc\n",
    "import sqlite3"
   ]
  },
  {
   "cell_type": "markdown",
   "metadata": {},
   "source": [
    "### Access Drivers"
   ]
  },
  {
   "cell_type": "code",
   "execution_count": null,
   "metadata": {},
   "outputs": [],
   "source": [
    "[x for x in pyodbc.drivers() if x.startswith('Microsoft Access Driver')]"
   ]
  },
  {
   "cell_type": "markdown",
   "metadata": {},
   "source": [
    "### Working Directory"
   ]
  },
  {
   "cell_type": "code",
   "execution_count": null,
   "metadata": {},
   "outputs": [],
   "source": [
    "WD = os.getcwd()\n",
    "WD"
   ]
  },
  {
   "cell_type": "markdown",
   "metadata": {},
   "source": [
    "## Datos iniciales"
   ]
  },
  {
   "cell_type": "code",
   "execution_count": null,
   "metadata": {},
   "outputs": [],
   "source": [
    "# set up some constants\n",
    "MDB = WD + '\\\\Slave.mdb'\n",
    "DRV = '{Microsoft Access Driver (*.mdb, *.accdb)}'\n",
    "PWD = ''\n",
    "print(f'Dirección: {MDB} - Driver: {DRV}')"
   ]
  },
  {
   "cell_type": "markdown",
   "metadata": {},
   "source": [
    "## Conectar a la DB"
   ]
  },
  {
   "cell_type": "code",
   "execution_count": null,
   "metadata": {},
   "outputs": [],
   "source": [
    "#con = pyodbc.connect('DRIVER={};DBQ={}'.format(DRV,MDB))\n",
    "#cur = con.cursor()\n",
    "\"\"\" \n",
    "conn_str = (\n",
    "    r'DRIVER={Microsoft Access Driver (*.mdb, *.accdb)};'\n",
    "    r'DBQ=D:\\Datos INVICO\\Python INVICO\\Lectura archivos\\read_slave\\Slave.mdb;'\n",
    "    ) \n",
    "\n",
    " \"\"\"\n",
    "conn_str = (\n",
    "    f'DRIVER={DRV};DBQ={MDB};'\n",
    "    )  \n",
    "\n",
    "con_mdb = pyodbc.connect(conn_str)\n",
    "cur_mdb = con_mdb.cursor()"
   ]
  },
  {
   "cell_type": "markdown",
   "metadata": {},
   "source": [
    "## Query"
   ]
  },
  {
   "cell_type": "markdown",
   "metadata": {},
   "source": [
    "### Tablas"
   ]
  },
  {
   "cell_type": "code",
   "execution_count": null,
   "metadata": {},
   "outputs": [],
   "source": [
    "for table_info in cur_mdb.tables(tableType='TABLE'):\n",
    "    print(table_info.table_name)"
   ]
  },
  {
   "cell_type": "markdown",
   "metadata": {},
   "source": [
    "### Registros de una tabla específica"
   ]
  },
  {
   "cell_type": "markdown",
   "metadata": {},
   "source": [
    "#### a) Tabla Precarizados"
   ]
  },
  {
   "cell_type": "code",
   "execution_count": null,
   "metadata": {},
   "outputs": [],
   "source": [
    "SQL = 'SELECT * FROM PRECARIZADOS;' # your query goes here\n",
    "rows_precarizados_mdb = cur_mdb.execute(SQL).fetchall()\n",
    "list(rows_precarizados_mdb[1])"
   ]
  },
  {
   "cell_type": "markdown",
   "metadata": {},
   "source": [
    "#### b) Tabla Liquidación Honorarios"
   ]
  },
  {
   "cell_type": "code",
   "execution_count": null,
   "metadata": {},
   "outputs": [],
   "source": [
    "SQL = 'SELECT * FROM LIQUIDACIONHONORARIOS;' # your query goes here\n",
    "rows_honfact_mdb = cur_mdb.execute(SQL).fetchall()\n",
    "list(rows_honfact_mdb[1])\n"
   ]
  },
  {
   "cell_type": "markdown",
   "metadata": {},
   "source": [
    "## Creamos / actualizamos slave.sqlite"
   ]
  },
  {
   "cell_type": "markdown",
   "metadata": {},
   "source": [
    "### Datos iniciales de la conexión"
   ]
  },
  {
   "cell_type": "code",
   "execution_count": null,
   "metadata": {},
   "outputs": [],
   "source": [
    "SQLITE_DB = 'slave_test.sqlite'\n",
    "\n",
    "con_sqlite = sqlite3.connect(SQLITE_DB)\n",
    "cur_sqlite = con_sqlite.cursor()"
   ]
  },
  {
   "cell_type": "markdown",
   "metadata": {},
   "source": [
    "### Creación de tablas"
   ]
  },
  {
   "cell_type": "markdown",
   "metadata": {},
   "source": [
    "#### a) Tabla Precarizados"
   ]
  },
  {
   "cell_type": "code",
   "execution_count": null,
   "metadata": {},
   "outputs": [],
   "source": [
    "con_sqlite.execute('''\n",
    "DROP TABLE IF EXISTS factureros\n",
    "''')\n",
    "con_sqlite.commit()\n",
    "\n",
    "con_sqlite.execute('''\n",
    "CREATE TABLE if not exists factureros (\n",
    "    id_factureros INTEGER PRIMARY KEY AUTOINCREMENT UNIQUE NOT NULL, \n",
    "    razon_social TEXT NOT NULL, \n",
    "    estructura TEXT NOT NULL, \n",
    "    partida TEXT NOT NULL)\n",
    "''')\n",
    "con_sqlite.commit()\n",
    "\n",
    "for item in rows_precarizados_mdb:\n",
    "    item = list(item)\n",
    "    item[1] = (item[1][0:2] + '-00' + item[1][2:])\n",
    "    cur_sqlite.execute(\"INSERT INTO factureros (razon_social, estructura, partida) VALUES(?,?,?)\", item)\n",
    "con_sqlite.commit()\n",
    "\n",
    "# i = 0\n",
    "# for item in rows_precarizados_mdb:\n",
    "#     i += 1\n",
    "#     item = list(item)\n",
    "#     item.insert(0, i)\n",
    "#     cur_sqlite.execute(\"INSERT INTO factureros VALUES(?,?,?,?)\", item)\n",
    "# con_sqlite.commit()"
   ]
  },
  {
   "cell_type": "markdown",
   "metadata": {},
   "source": [
    "#### b) Tabla Honorarios Factureros"
   ]
  },
  {
   "cell_type": "code",
   "execution_count": null,
   "metadata": {},
   "outputs": [],
   "source": [
    "con_sqlite.execute('''\n",
    "DROP TABLE IF EXISTS honorarios\n",
    "''')\n",
    "con_sqlite.commit()\n",
    "\n",
    "con_sqlite.execute('''\n",
    "CREATE TABLE if not exists honorarios (\n",
    "    id_honorarios INTEGER PRIMARY KEY AUTOINCREMENT UNIQUE NOT NULL, \n",
    "    fecha INTEGER, \n",
    "    razon_social TEXT, \n",
    "    sellos REAL, \n",
    "    seguro REAL, \n",
    "    nro_entrada TEXT, \n",
    "    tipo TEXT, \n",
    "    importe_bruto REAL, \n",
    "    iibb REAL, \n",
    "    libramiento_pago REAL, \n",
    "    otras_retenciones REAL, \n",
    "    anticipo REAL, \n",
    "    mutual REAL,\n",
    "    estructura TEXT, \n",
    "    partida TEXT,\n",
    "    embargo REAL)\n",
    "''')\n",
    "con_sqlite.commit()\n",
    "\n",
    "# i = 0\n",
    "for item in rows_honfact_mdb:\n",
    "    # i += 1\n",
    "    item = list(item)\n",
    "    # item.insert(0, i)\n",
    "    #item[0] = datetime.timestamp(item[0])\n",
    "    item[2] = float(item[2])\n",
    "    item[3] = float(item[3])\n",
    "    item[6] = float(item[6])\n",
    "    item[7] = float(item[7])\n",
    "    item[8] = float(item[8])\n",
    "    item[9] = float(item[9])\n",
    "    item[10] = float(item[10])\n",
    "    item[11] = float(item[11])\n",
    "    item[12] = (item[12][0:2] + '-00' + item[12][2:])\n",
    "    # cur_sqlite.execute(\"INSERT INTO factureros (nombre_completo, actividad, partida) VALUES(?,?,?)\", item)\n",
    "    cur_sqlite.execute('''\n",
    "    INSERT INTO honorarios (\n",
    "        fecha, \n",
    "        razon_social, \n",
    "        sellos,    \n",
    "        seguro,\n",
    "        nro_entrada,    \n",
    "        tipo,    \n",
    "        importe_bruto,\n",
    "        iibb, \n",
    "        libramiento_pago,    \n",
    "        otras_retenciones,\n",
    "        anticipo, \n",
    "        mutual,\n",
    "        estructura, \n",
    "        partida, \n",
    "        embargo\n",
    "        ) \n",
    "    VALUES(?,?,?,?,?,?,?,?,?,?,?,?,?,?,0)\n",
    "    ''', item)\n",
    "con_sqlite.commit()"
   ]
  },
  {
   "cell_type": "markdown",
   "metadata": {},
   "source": [
    "#### c) Desagregamos tabla honorarios"
   ]
  },
  {
   "cell_type": "code",
   "execution_count": null,
   "metadata": {},
   "outputs": [],
   "source": [
    "#Creamos tabla comprobantes_siif\n",
    "con_sqlite.execute('''\n",
    "DROP TABLE IF EXISTS comprobantes_siif\n",
    "''')\n",
    "con_sqlite.commit()\n",
    "\n",
    "con_sqlite.execute('''\n",
    "CREATE TABLE if not exists comprobantes_siif (\n",
    "    nro_entrada TEXT PRIMARY KEY UNIQUE NOT NULL, \n",
    "    fecha INTEGER, \n",
    "    tipo TEXT)\n",
    "''')\n",
    "con_sqlite.commit()\n",
    "\n",
    "#Insertamos registros en la tabla comprobantes_siif\n",
    "con_sqlite.execute('''\n",
    "INSERT INTO comprobantes_siif\n",
    "    SELECT DISTINCT nro_entrada, fecha, tipo\n",
    "    FROM honorarios\n",
    "''')\n",
    "con_sqlite.commit()\n",
    "\n",
    "#Eliminamos columnas en honorarios\n",
    "con_sqlite.execute('''\n",
    "DROP TABLE IF EXISTS temporal\n",
    "''')\n",
    "con_sqlite.commit()\n",
    "\n",
    "con_sqlite.execute('''\n",
    "CREATE TABLE if not exists temporal (\n",
    "    id_honorarios INTEGER PRIMARY KEY AUTOINCREMENT UNIQUE NOT NULL, \n",
    "    nro_entrada TEXT,\n",
    "    razon_social TEXT, \n",
    "    importe_bruto REAL, \n",
    "    iibb REAL,\n",
    "    libramiento_pago REAL, \n",
    "    sellos REAL, \n",
    "    seguro REAL,  \n",
    "    otras_retenciones REAL, \n",
    "    anticipo REAL, \n",
    "    mutual REAL,\n",
    "    embargo REAL, \n",
    "    estructura TEXT, \n",
    "    partida TEXT,\n",
    "    FOREIGN KEY(nro_entrada) REFERENCES comprobantes_siif(nro_entrada) ON DELETE CASCADE)\n",
    "''')\n",
    "con_sqlite.commit()\n",
    "\n",
    "con_sqlite.execute('''\n",
    "INSERT INTO temporal\n",
    "    SELECT id_honorarios, nro_entrada, razon_social, importe_bruto, \n",
    "    iibb, libramiento_pago, sellos, seguro, otras_retenciones, \n",
    "    anticipo, mutual, embargo,\n",
    "    estructura, partida\n",
    "    FROM honorarios\n",
    "''')\n",
    "con_sqlite.commit()\n",
    "\n",
    "con_sqlite.execute('''\n",
    "DROP TABLE IF EXISTS honorarios\n",
    "''')\n",
    "con_sqlite.commit()\n",
    "\n",
    "con_sqlite.execute('''\n",
    "ALTER TABLE temporal RENAME TO honorarios\n",
    "''')\n",
    "con_sqlite.commit()"
   ]
  },
  {
   "cell_type": "markdown",
   "metadata": {},
   "source": [
    "## Cerrar conexión"
   ]
  },
  {
   "cell_type": "code",
   "execution_count": null,
   "metadata": {},
   "outputs": [],
   "source": [
    "cur_mdb.close()\n",
    "con_mdb.close()\n",
    "\n",
    "cur_sqlite.close()\n",
    "con_sqlite.close()"
   ]
  }
 ],
 "metadata": {
  "kernelspec": {
   "display_name": "invicodatpy_env",
   "language": "python",
   "name": "python3"
  },
  "language_info": {
   "codemirror_mode": {
    "name": "ipython",
    "version": 3
   },
   "file_extension": ".py",
   "mimetype": "text/x-python",
   "name": "python",
   "nbconvert_exporter": "python",
   "pygments_lexer": "ipython3",
   "version": "3.10.6 (main, Nov 14 2022, 16:10:14) [GCC 11.3.0]"
  },
  "orig_nbformat": 4,
  "vscode": {
   "interpreter": {
    "hash": "54ca6e876821ab1ea15030dc81a9d3b47646e8a72b31d187ca41b8d3c3d25e89"
   }
  }
 },
 "nbformat": 4,
 "nbformat_minor": 2
}
